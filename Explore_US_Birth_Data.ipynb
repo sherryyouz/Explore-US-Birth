{
 "cells": [
  {
   "cell_type": "markdown",
   "metadata": {},
   "source": [
    "# Explore U.S. Birth Data\n",
    "\n",
    "This Project works with a [dataset](https://raw.githubusercontent.com/fivethirtyeight/data/master/births/US_births_1994-2003_CDC_NCHS.csv) on births in the U.S. In this project, we are using the dataset compiled by FiveThirtyEight.\n",
    "\n",
    "The dataset contains the following columns:\n",
    "- `year` -- Year(1994 to 2003).\n",
    "- `month` -- Month(1 to 12).\n",
    "- `date_of_month` -- Day number of the month (1 to 31).\n",
    "- `day_of_week` -- Day of week (1 to 7).\n",
    "- `births` -- Number of births that day."
   ]
  },
  {
   "cell_type": "markdown",
   "metadata": {},
   "source": [
    "### First, open the file and convert it to a list. "
   ]
  },
  {
   "cell_type": "code",
   "execution_count": 1,
   "metadata": {},
   "outputs": [
    {
     "data": {
      "text/plain": [
       "['year,month,date_of_month,day_of_week,births',\n",
       " '1994,1,1,6,8096',\n",
       " '1994,1,2,7,7772',\n",
       " '1994,1,3,1,10142',\n",
       " '1994,1,4,2,11248',\n",
       " '1994,1,5,3,11053',\n",
       " '1994,1,6,4,11406',\n",
       " '1994,1,7,5,11251',\n",
       " '1994,1,8,6,8653',\n",
       " '1994,1,9,7,7910']"
      ]
     },
     "execution_count": 1,
     "metadata": {},
     "output_type": "execute_result"
    }
   ],
   "source": [
    "f = open(\"US_births_1994-2003_CDC_NCHS.csv\", \"r\")\n",
    "file = f.read().split(\"\\n\")\n",
    "file[0:10]"
   ]
  },
  {
   "cell_type": "markdown",
   "metadata": {},
   "source": [
    "### Or create a function that can convert a dataset into a list of lists where each nested list contains integer values."
   ]
  },
  {
   "cell_type": "code",
   "execution_count": 5,
   "metadata": {},
   "outputs": [
    {
     "data": {
      "text/plain": [
       "[[1994, 1, 1, 6, 8096],\n",
       " [1994, 1, 1, 6, 8096],\n",
       " [1994, 1, 1, 6, 8096],\n",
       " [1994, 1, 1, 6, 8096],\n",
       " [1994, 1, 1, 6, 8096],\n",
       " [1994, 1, 2, 7, 7772],\n",
       " [1994, 1, 2, 7, 7772],\n",
       " [1994, 1, 2, 7, 7772],\n",
       " [1994, 1, 2, 7, 7772],\n",
       " [1994, 1, 2, 7, 7772]]"
      ]
     },
     "execution_count": 5,
     "metadata": {},
     "output_type": "execute_result"
    }
   ],
   "source": [
    "def read_csv(csv):\n",
    "    f = open(csv,\"r\")\n",
    "    file = f.read().split(\"\\n\")\n",
    "    string_list = file[1:len(file)-1]\n",
    "    final_list = []\n",
    "    for sl in string_list:\n",
    "        int_fields = []\n",
    "        string_fields = sl.split(',')\n",
    "        for sf in string_fields:\n",
    "            int_fields.append(int(sf))\n",
    "            final_list.append(int_fields)\n",
    "    return final_list\n",
    "\n",
    "cdc_list = read_csv(\"US_births_1994-2003_CDC_NCHS.csv\")\n",
    "cdc_list[0:10]"
   ]
  },
  {
   "cell_type": "markdown",
   "metadata": {},
   "source": [
    "### Then create a function to calculate the total number of births that occured in each month and each day of week, across all of the years in the dataset."
   ]
  },
  {
   "cell_type": "code",
   "execution_count": 6,
   "metadata": {},
   "outputs": [
    {
     "data": {
      "text/plain": [
       "{1: 16162585,\n",
       " 2: 15090700,\n",
       " 3: 16610345,\n",
       " 4: 15926570,\n",
       " 5: 16754535,\n",
       " 6: 16482650,\n",
       " 7: 17493915,\n",
       " 8: 17629290,\n",
       " 9: 17198490,\n",
       " 10: 16894070,\n",
       " 11: 15858235,\n",
       " 12: 16447430}"
      ]
     },
     "execution_count": 6,
     "metadata": {},
     "output_type": "execute_result"
    }
   ],
   "source": [
    "def month_births(input_list):\n",
    "    births_per_month = {}\n",
    "    for ls in input_list:\n",
    "        month = ls[1]\n",
    "        births = ls[4]\n",
    "        if month in births_per_month:\n",
    "            births_per_month[month] = births_per_month[month] + births\n",
    "        else:\n",
    "            births_per_month[month] = births\n",
    "    return births_per_month\n",
    "\n",
    "cdc_month_births = month_births(cdc_list)\n",
    "cdc_month_births"
   ]
  },
  {
   "cell_type": "code",
   "execution_count": 7,
   "metadata": {},
   "outputs": [
    {
     "data": {
      "text/plain": [
       "{1: 28945830,\n",
       " 2: 32230980,\n",
       " 3: 31552405,\n",
       " 4: 31442145,\n",
       " 5: 31168285,\n",
       " 6: 22810555,\n",
       " 7: 20398615}"
      ]
     },
     "execution_count": 7,
     "metadata": {},
     "output_type": "execute_result"
    }
   ],
   "source": [
    "def dow_births(input_list):\n",
    "    births_per_dow = {}\n",
    "    for ls in input_list:\n",
    "        dow = ls[3]\n",
    "        births = ls[4]\n",
    "        if dow in births_per_dow:\n",
    "            births_per_dow[dow] = births_per_dow[dow] + births\n",
    "        else:\n",
    "            births_per_dow[dow] = births\n",
    "    return births_per_dow\n",
    "\n",
    "cdc_day_births = dow_births(cdc_list)\n",
    "cdc_day_births"
   ]
  },
  {
   "cell_type": "markdown",
   "metadata": {},
   "source": [
    "### To make this process easier, create a function that can calculate the births based on the column we need.\n",
    "\n",
    "The `column` can indicate year, month or day of week."
   ]
  },
  {
   "cell_type": "code",
   "execution_count": 9,
   "metadata": {},
   "outputs": [
    {
     "data": {
      "text/plain": [
       "{1994: 19763835,\n",
       " 1995: 19497945,\n",
       " 1996: 19457470,\n",
       " 1997: 19404470,\n",
       " 1998: 19707765,\n",
       " 1999: 19797085,\n",
       " 2000: 20294070,\n",
       " 2001: 20129665,\n",
       " 2002: 20108630,\n",
       " 2003: 20387880}"
      ]
     },
     "execution_count": 9,
     "metadata": {},
     "output_type": "execute_result"
    }
   ],
   "source": [
    "def calc_counts(input_list, column):\n",
    "    calc_result = {}\n",
    "    for ls in input_list:\n",
    "        calc_index = ls[column]\n",
    "        result = ls[4]\n",
    "        if calc_index in calc_result:\n",
    "            calc_result[calc_index] = calc_result[calc_index] + result\n",
    "        else:\n",
    "            calc_result[calc_index] = result\n",
    "    return calc_result\n",
    "\n",
    "cdc_year_births = calc_counts(cdc_list, 0)\n",
    "cdc_year_births"
   ]
  },
  {
   "cell_type": "markdown",
   "metadata": {},
   "source": [
    "### We can then use the same function to calculate sum of births based on columns."
   ]
  },
  {
   "cell_type": "code",
   "execution_count": 13,
   "metadata": {},
   "outputs": [
    {
     "data": {
      "text/plain": [
       "{1: 6382785,\n",
       " 2: 6443695,\n",
       " 3: 6522495,\n",
       " 4: 6440770,\n",
       " 5: 6499765,\n",
       " 6: 6522370,\n",
       " 7: 6552295,\n",
       " 8: 6561485,\n",
       " 9: 6516460,\n",
       " 10: 6603820,\n",
       " 11: 6571805,\n",
       " 12: 6592185,\n",
       " 13: 6388420,\n",
       " 14: 6600765,\n",
       " 15: 6595855,\n",
       " 16: 6575960,\n",
       " 17: 6624765,\n",
       " 18: 6634275,\n",
       " 19: 6593635,\n",
       " 20: 6624105,\n",
       " 21: 6614485,\n",
       " 22: 6586905,\n",
       " 23: 6466450,\n",
       " 24: 6440415,\n",
       " 25: 6360580,\n",
       " 26: 6423980,\n",
       " 27: 6471975,\n",
       " 28: 6538425,\n",
       " 29: 6115805,\n",
       " 30: 6010475,\n",
       " 31: 3671610}"
      ]
     },
     "execution_count": 13,
     "metadata": {},
     "output_type": "execute_result"
    }
   ],
   "source": [
    "cdc_month_births = calc_counts(cdc_list, 1)\n",
    "cdc_dom_births = calc_counts(cdc_list, 2)\n",
    "cdc_dow_births = calc_counts(cdc_list, 3)\n",
    "\n",
    "cdc_dom_births"
   ]
  },
  {
   "cell_type": "markdown",
   "metadata": {},
   "source": [
    "## Calculate the min and max births in certain dictionary."
   ]
  },
  {
   "cell_type": "code",
   "execution_count": 20,
   "metadata": {},
   "outputs": [
    {
     "data": {
      "text/plain": [
       "{'max_birth': 17629290, 'min_birth': 15090700}"
      ]
     },
     "execution_count": 20,
     "metadata": {},
     "output_type": "execute_result"
    }
   ],
   "source": [
    "def find_most(input_dict):\n",
    "    most_result = {}\n",
    "    most_result[\"min_birth\"] = min(input_dict.values())\n",
    "    most_result[\"max_birth\"] = max(input_dict.values())\n",
    "    return most_result\n",
    "\n",
    "min_max_month_birth = find_most(cdc_month_births)  \n",
    "min_max_month_birth"
   ]
  },
  {
   "cell_type": "code",
   "execution_count": null,
   "metadata": {
    "collapsed": true
   },
   "outputs": [],
   "source": []
  }
 ],
 "metadata": {
  "anaconda-cloud": {},
  "kernelspec": {
   "display_name": "Python 3",
   "language": "python",
   "name": "python3"
  },
  "language_info": {
   "codemirror_mode": {
    "name": "ipython",
    "version": 3
   },
   "file_extension": ".py",
   "mimetype": "text/x-python",
   "name": "python",
   "nbconvert_exporter": "python",
   "pygments_lexer": "ipython3",
   "version": "3.7.0"
  }
 },
 "nbformat": 4,
 "nbformat_minor": 1
}
